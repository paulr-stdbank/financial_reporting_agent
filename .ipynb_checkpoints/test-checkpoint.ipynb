{
 "cells": [
  {
   "cell_type": "code",
   "execution_count": 10,
   "id": "f50a3176-cc8d-496c-a23a-a3321991bdb0",
   "metadata": {
    "execution": {
     "iopub.execute_input": "2025-07-16T09:55:01.436212Z",
     "iopub.status.busy": "2025-07-16T09:55:01.435822Z",
     "iopub.status.idle": "2025-07-16T09:55:01.626816Z",
     "shell.execute_reply": "2025-07-16T09:55:01.624594Z",
     "shell.execute_reply.started": "2025-07-16T09:55:01.436171Z"
    }
   },
   "outputs": [
    {
     "name": "stdout",
     "output_type": "stream",
     "text": [
      "  develop\u001b[m\n",
      "* \u001b[32mfeature/PR_data_processing\u001b[m\n",
      "  main\u001b[m\n"
     ]
    }
   ],
   "source": [
    "!git branch\n"
   ]
  },
  {
   "cell_type": "code",
   "execution_count": 6,
   "id": "f090a4be-0c3e-4f04-9cb4-27400e4a2e92",
   "metadata": {
    "execution": {
     "iopub.execute_input": "2025-07-16T09:51:49.003688Z",
     "iopub.status.busy": "2025-07-16T09:51:49.003292Z",
     "iopub.status.idle": "2025-07-16T09:51:49.159169Z",
     "shell.execute_reply": "2025-07-16T09:51:49.158205Z",
     "shell.execute_reply.started": "2025-07-16T09:51:49.003656Z"
    }
   },
   "outputs": [],
   "source": []
  }
 ],
 "metadata": {
  "kernelspec": {
   "display_name": "Python 3 (ipykernel)",
   "language": "python",
   "name": "python3"
  },
  "language_info": {
   "codemirror_mode": {
    "name": "ipython",
    "version": 3
   },
   "file_extension": ".py",
   "mimetype": "text/x-python",
   "name": "python",
   "nbconvert_exporter": "python",
   "pygments_lexer": "ipython3",
   "version": "3.12.9"
  }
 },
 "nbformat": 4,
 "nbformat_minor": 5
}
