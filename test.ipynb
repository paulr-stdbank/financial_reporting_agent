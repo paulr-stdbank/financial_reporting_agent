{
 "cells": [
  {
   "cell_type": "code",
   "execution_count": 13,
   "id": "f50a3176-cc8d-496c-a23a-a3321991bdb0",
   "metadata": {
    "execution": {
     "iopub.execute_input": "2025-07-16T09:56:05.316947Z",
     "iopub.status.busy": "2025-07-16T09:56:05.316460Z",
     "iopub.status.idle": "2025-07-16T09:56:05.476455Z",
     "shell.execute_reply": "2025-07-16T09:56:05.475565Z",
     "shell.execute_reply.started": "2025-07-16T09:56:05.316913Z"
    }
   },
   "outputs": [],
   "source": [
    "!git add -A\n",
    "!git status\n",
    "!git commit  -m \"First commit of new branch\"\n",
    "!git push -u origin feature/PR\n",
    "\n",
    "\n"
   ]
  },
  {
   "cell_type": "code",
   "execution_count": 11,
   "id": "f090a4be-0c3e-4f04-9cb4-27400e4a2e92",
   "metadata": {
    "execution": {
     "iopub.execute_input": "2025-07-16T09:55:25.679159Z",
     "iopub.status.busy": "2025-07-16T09:55:25.678863Z",
     "iopub.status.idle": "2025-07-16T09:55:26.220961Z",
     "shell.execute_reply": "2025-07-16T09:55:26.220286Z",
     "shell.execute_reply.started": "2025-07-16T09:55:25.679133Z"
    }
   },
   "outputs": [],
   "source": [
    "import pandas as pd"
   ]
  },
  {
   "cell_type": "code",
   "execution_count": null,
   "id": "2dc2c50c-28f1-421e-91b1-eba7d17cc34c",
   "metadata": {},
   "outputs": [],
   "source": [
    "!g"
   ]
  }
 ],
 "metadata": {
  "kernelspec": {
   "display_name": "Python 3 (ipykernel)",
   "language": "python",
   "name": "python3"
  },
  "language_info": {
   "codemirror_mode": {
    "name": "ipython",
    "version": 3
   },
   "file_extension": ".py",
   "mimetype": "text/x-python",
   "name": "python",
   "nbconvert_exporter": "python",
   "pygments_lexer": "ipython3",
   "version": "3.12.9"
  }
 },
 "nbformat": 4,
 "nbformat_minor": 5
}
